{
 "cells": [
  {
   "cell_type": "code",
   "execution_count": 10,
   "metadata": {},
   "outputs": [
    {
     "name": "stdout",
     "output_type": "stream",
     "text": [
      "[[ 2.9]\n",
      " [ 5.1]\n",
      " [ 3.2]\n",
      " [ 4.5]\n",
      " [ 8.2]\n",
      " [ 6.8]\n",
      " [ 1.3]\n",
      " [10.5]\n",
      " [ 3. ]\n",
      " [ 2.2]\n",
      " [ 5.9]\n",
      " [ 6. ]\n",
      " [ 3.7]\n",
      " [ 3.2]\n",
      " [ 9. ]\n",
      " [ 2. ]\n",
      " [ 1.1]\n",
      " [ 7.1]\n",
      " [ 4.9]\n",
      " [ 4. ]]\n",
      "[[ 1.5]\n",
      " [10.3]\n",
      " [ 4.1]\n",
      " [ 3.9]\n",
      " [ 9.5]\n",
      " [ 8.7]\n",
      " [ 9.6]\n",
      " [ 4. ]\n",
      " [ 5.3]\n",
      " [ 7.9]]\n",
      "[[2.90000e+00 5.66420e+04]\n",
      " [5.10000e+00 6.60290e+04]\n",
      " [3.20000e+00 6.44450e+04]\n",
      " [4.50000e+00 6.11110e+04]\n",
      " [8.20000e+00 1.13812e+05]\n",
      " [6.80000e+00 9.17380e+04]\n",
      " [1.30000e+00 4.62050e+04]\n",
      " [1.05000e+01 1.21872e+05]\n",
      " [3.00000e+00 6.01500e+04]\n",
      " [2.20000e+00 3.98910e+04]\n",
      " [5.90000e+00 8.13630e+04]\n",
      " [6.00000e+00 9.39400e+04]\n",
      " [3.70000e+00 5.71890e+04]\n",
      " [3.20000e+00 5.44450e+04]\n",
      " [9.00000e+00 1.05582e+05]\n",
      " [2.00000e+00 4.35250e+04]\n",
      " [1.10000e+00 3.93430e+04]\n",
      " [7.10000e+00 9.82730e+04]\n",
      " [4.90000e+00 6.79380e+04]\n",
      " [4.00000e+00 5.69570e+04]]\n",
      "[[1.50000e+00 3.77310e+04]\n",
      " [1.03000e+01 1.22391e+05]\n",
      " [4.10000e+00 5.70810e+04]\n",
      " [3.90000e+00 6.32180e+04]\n",
      " [9.50000e+00 1.16969e+05]\n",
      " [8.70000e+00 1.09431e+05]\n",
      " [9.60000e+00 1.12635e+05]\n",
      " [4.00000e+00 5.57940e+04]\n",
      " [5.30000e+00 8.30880e+04]\n",
      " [7.90000e+00 1.01302e+05]]\n"
     ]
    },
    {
     "data": {
      "text/plain": [
       "(None, None, None, None)"
      ]
     },
     "execution_count": 10,
     "metadata": {},
     "output_type": "execute_result"
    }
   ],
   "source": [
    "import pandas as pd\n",
    "import numpy as np\n",
    "import matplotlib.pyplot as plt\n",
    "from sklearn.preprocessing import Imputer,LabelEncoder\n",
    "from sklearn.cross_validation import train_test_split\n",
    "\n",
    "#from sklearn.preprocessing import \n",
    "pol=pd.read_csv(\"Salary.csv\") #importing datasets\n",
    "#print(pol)\n",
    "x=pol.iloc[:,:-1].values\n",
    "#print(x)\n",
    "y=pol.iloc[:,:2].values\n",
    "#print(y)\n",
    "x_train,x_test,y_train,y_test=train_test_split(x,y,test_size=1/3,random_state=0)\n",
    "print(x_train), print(x_test),print(y_train),print(y_test)\n",
    "\n"
   ]
  },
  {
   "cell_type": "code",
   "execution_count": 38,
   "metadata": {},
   "outputs": [
    {
     "name": "stdout",
     "output_type": "stream",
     "text": [
      "[[ 2.9]\n",
      " [ 5.1]\n",
      " [ 3.2]\n",
      " [ 4.5]\n",
      " [ 8.2]\n",
      " [ 6.8]\n",
      " [ 1.3]\n",
      " [10.5]\n",
      " [ 3. ]\n",
      " [ 2.2]\n",
      " [ 5.9]\n",
      " [ 6. ]\n",
      " [ 3.7]\n",
      " [ 3.2]\n",
      " [ 9. ]\n",
      " [ 2. ]\n",
      " [ 1.1]\n",
      " [ 7.1]\n",
      " [ 4.9]\n",
      " [ 4. ]]\n",
      "[[ 1.5]\n",
      " [10.3]\n",
      " [ 4.1]\n",
      " [ 3.9]\n",
      " [ 9.5]\n",
      " [ 8.7]\n",
      " [ 9.6]\n",
      " [ 4. ]\n",
      " [ 5.3]\n",
      " [ 7.9]]\n",
      "[[2.90000e+00 5.66420e+04]\n",
      " [5.10000e+00 6.60290e+04]\n",
      " [3.20000e+00 6.44450e+04]\n",
      " [4.50000e+00 6.11110e+04]\n",
      " [8.20000e+00 1.13812e+05]\n",
      " [6.80000e+00 9.17380e+04]\n",
      " [1.30000e+00 4.62050e+04]\n",
      " [1.05000e+01 1.21872e+05]\n",
      " [3.00000e+00 6.01500e+04]\n",
      " [2.20000e+00 3.98910e+04]\n",
      " [5.90000e+00 8.13630e+04]\n",
      " [6.00000e+00 9.39400e+04]\n",
      " [3.70000e+00 5.71890e+04]\n",
      " [3.20000e+00 5.44450e+04]\n",
      " [9.00000e+00 1.05582e+05]\n",
      " [2.00000e+00 4.35250e+04]\n",
      " [1.10000e+00 3.93430e+04]\n",
      " [7.10000e+00 9.82730e+04]\n",
      " [4.90000e+00 6.79380e+04]\n",
      " [4.00000e+00 5.69570e+04]]\n",
      "[[1.50000e+00 3.77310e+04]\n",
      " [1.03000e+01 1.22391e+05]\n",
      " [4.10000e+00 5.70810e+04]\n",
      " [3.90000e+00 6.32180e+04]\n",
      " [9.50000e+00 1.16969e+05]\n",
      " [8.70000e+00 1.09431e+05]\n",
      " [9.60000e+00 1.12635e+05]\n",
      " [4.00000e+00 5.57940e+04]\n",
      " [5.30000e+00 8.30880e+04]\n",
      " [7.90000e+00 1.01302e+05]]\n"
     ]
    },
    {
     "data": {
      "text/plain": [
       "(None, None, None, None)"
      ]
     },
     "execution_count": 38,
     "metadata": {},
     "output_type": "execute_result"
    }
   ],
   "source": [
    "import pandas as pd\n",
    "from sklearn.cross_validation import train_test_split\n",
    "pol=pd.read_csv(\"Salary.csv\") \n",
    "x=pol.iloc[:,:-1].values\n",
    "y=pol.iloc[:,:2].values\n",
    "x_train,x_test,y_train,y_test=train_test_split(x,y,test_size=1/3,random_state=0)\n",
    "print(x_train), print(x_test),print(y_train),print(y_test)\n"
   ]
  },
  {
   "cell_type": "code",
   "execution_count": 11,
   "metadata": {},
   "outputs": [
    {
     "data": {
      "text/plain": [
       "array([[2.90000000e+00, 5.39194253e+04],\n",
       "       [5.10000000e+00, 7.44804987e+04],\n",
       "       [3.20000000e+00, 5.67232081e+04],\n",
       "       [4.50000000e+00, 6.88729332e+04],\n",
       "       [8.20000000e+00, 1.03452920e+05],\n",
       "       [6.80000000e+00, 9.03686009e+04],\n",
       "       [1.30000000e+00, 3.89659174e+04],\n",
       "       [1.05000000e+01, 1.24948588e+05],\n",
       "       [3.00000000e+00, 5.48540196e+04],\n",
       "       [2.20000000e+00, 4.73772656e+04],\n",
       "       [5.90000000e+00, 8.19572527e+04],\n",
       "       [6.00000000e+00, 8.28918469e+04],\n",
       "       [3.70000000e+00, 6.13961793e+04],\n",
       "       [3.20000000e+00, 5.67232081e+04],\n",
       "       [9.00000000e+00, 1.10929674e+05],\n",
       "       [2.00000000e+00, 4.55080771e+04],\n",
       "       [1.10000000e+00, 3.70967289e+04],\n",
       "       [7.10000000e+00, 9.31723836e+04],\n",
       "       [4.90000000e+00, 7.26113102e+04],\n",
       "       [4.00000000e+00, 6.41999620e+04]])"
      ]
     },
     "execution_count": 11,
     "metadata": {},
     "output_type": "execute_result"
    }
   ],
   "source": [
    "from sklearn.linear_model import LinearRegression# fitting the linear regression\n",
    "regrossor=LinearRegression()\n",
    "regrossor.fit(x_train,y_train)\n",
    "#regrossor\n",
    "y_pre=regrossor.predict(x_train)#prediciting the test set result\n",
    "y_pre"
   ]
  },
  {
   "cell_type": "code",
   "execution_count": 41,
   "metadata": {},
   "outputs": [
    {
     "data": {
      "image/png": "[encoded data removed]",
      "text/plain": [
       "<Figure size 432x288 with 1 Axes>"
      ]
     },
     "metadata": {
      "needs_background": "light"
     },
     "output_type": "display_data"
    },
    {
     "data": {
      "image/png": "[encoded data removed]",
      "text/plain": [
       "<Figure size 432x288 with 1 Axes>"
      ]
     },
     "metadata": {
      "needs_background": "light"
     },
     "output_type": "display_data"
    }
   ],
   "source": [
    "import pandas as pd\n",
    "import numpy as np\n",
    "import matplotlib.pyplot as plt\n",
    "from sklearn.preprocessing import Imputer,LabelEncoder\n",
    "from sklearn.cross_validation import train_test_split\n",
    "from sklearn.linear_model import LinearRegression# fitting the linear regression\n",
    "\n",
    "pol=pd.read_csv(\"Salary.csv\") \n",
    "x=pol.iloc[:,:-1].values\n",
    "y=pol.iloc[:, 1].values\n",
    "x_train,x_test,y_train,y_test=train_test_split(x,y,test_size=1/3,random_state=0)\n",
    "\n",
    "regrossor=LinearRegression()\n",
    "regrossor.fit(x_train,y_train)\n",
    "plt.scatter(x_train,y_train, color=\"red\")\n",
    "plt.plot(x_train, regrossor.predict(x_train), color='green')\n",
    "plt.title('salary vs exper')\n",
    "plt.xlabel('years of experience')\n",
    "plt.ylabel('salary')\n",
    "plt.show()\n",
    "plt.scatter(x_test,y_test, color=\"red\")\n",
    "plt.plot(x_train, regrossor.predict(x_train), color='green')\n",
    "plt.title('salary vs exper')\n",
    "plt.xlabel('years of experience')\n",
    "plt.ylabel('salary')\n",
    "plt.show()"
   ]
  }
 ],
 "metadata": {
  "kernelspec": {
   "display_name": "Python 3",
   "language": "python",
   "name": "python3"
  },
  "language_info": {
   "codemirror_mode": {
    "name": "ipython",
    "version": 3
   },
   "file_extension": ".py",
   "mimetype": "text/x-python",
   "name": "python",
   "nbconvert_exporter": "python",
   "pygments_lexer": "ipython3",
   "version": "3.7.0"
  }
 },
 "nbformat": 4,
 "nbformat_minor": 2
}
